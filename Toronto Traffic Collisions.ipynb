{
 "cells": [
  {
   "cell_type": "code",
   "execution_count": 4,
   "metadata": {},
   "outputs": [],
   "source": [
    "import pandas as pd\n",
    "import numpy as np\n",
    "import matplotlib.pyplot as plt\n",
    "import seaborn as sns\n",
    "\n",
    "from sklearn.linear_model import LinearRegression\n",
    "\n",
    "%matplotlib inline"
   ]
  },
  {
   "cell_type": "code",
   "execution_count": 5,
   "metadata": {},
   "outputs": [],
   "source": [
    "collisions = pd.read_csv('collisions.csv')"
   ]
  },
  {
   "cell_type": "code",
   "execution_count": 6,
   "metadata": {},
   "outputs": [],
   "source": [
    "# Collision Data from Open Data Toronto, showing collisions from Jan 2014 to June 2022\n",
    "# FTR = Failure to Remain\n",
    "# PD = Property Damage\n",
    "\n",
    "collisions = collisions.loc[collisions['Year'] < 2019]\n",
    "collisions.rename(columns = {'Atom':'Neighbourhood Number'}, inplace = True)\n",
    "\n",
    "collisions.loc[(collisions['Injury_Collisions'] == 'YES'), 'Injury_Collisions'] = 1\n",
    "collisions.loc[(collisions['Injury_Collisions'] == 'NO'), 'Injury_Collisions'] = 0\n",
    "\n",
    "collisions.loc[(collisions['FTR_Collisions'] == 'YES'), 'FTR_Collisions'] = 1\n",
    "collisions.loc[(collisions['FTR_Collisions'] == 'NO'), 'FTR_Collisions'] = 0\n",
    "\n",
    "collisions.loc[(collisions['PD_Collisions'] == 'YES'), 'PD_Collisions'] = 1\n",
    "collisions.loc[(collisions['PD_Collisions'] == 'NO'), 'PD_Collisions'] = 0\n",
    "\n",
    "collisions['Collision Indicator'] = 1"
   ]
  },
  {
   "cell_type": "code",
   "execution_count": 7,
   "metadata": {},
   "outputs": [
    {
     "data": {
      "text/plain": [
       "_id                       int64\n",
       "EventUniqueId            object\n",
       "OccurrenceDate           object\n",
       "Month                    object\n",
       "Day_of_Week              object\n",
       "Year                      int64\n",
       "Hour                    float64\n",
       "Division                 object\n",
       "Neighbourhood Number     object\n",
       "Neighbourhood            object\n",
       "Fatalities              float64\n",
       "Injury_Collisions        object\n",
       "FTR_Collisions           object\n",
       "PD_Collisions            object\n",
       "geometry                 object\n",
       "Collision Indicator       int64\n",
       "dtype: object"
      ]
     },
     "execution_count": 7,
     "metadata": {},
     "output_type": "execute_result"
    }
   ],
   "source": [
    "collisions.dtypes"
   ]
  },
  {
   "cell_type": "code",
   "execution_count": 9,
   "metadata": {},
   "outputs": [],
   "source": [
    "# CSV result of cleaned and manipulated Census data using Excel. Based on 140 neighbourhood model \n",
    "# Manipulation included giving scores for % of commutes done by various modes\n",
    "# The more active the commute (order iswalking/cycling, transit, then car), the higher the score\n",
    "neighbourhoods = pd.read_csv('TOneighbourhoods.csv')\n",
    "neighbourhoods['Neighbourhood Number'] = neighbourhoods['Neighbourhood Number'].astype(str)"
   ]
  },
  {
   "cell_type": "code",
   "execution_count": 10,
   "metadata": {},
   "outputs": [],
   "source": [
    "collisions_df =collisions.merge(neighbourhoods,how=\"inner\",on=\"Neighbourhood Number\")"
   ]
  },
  {
   "cell_type": "code",
   "execution_count": 11,
   "metadata": {},
   "outputs": [],
   "source": [
    "col_ind = collisions_df.groupby(['Neighbourhood Number'])['Collision Indicator'].agg('sum')\n",
    "col_inj = collisions_df.groupby(['Neighbourhood Number'])['Injury_Collisions'].agg('sum')\n",
    "col_ftr = collisions_df.groupby(['Neighbourhood Number'])['FTR_Collisions'].agg('sum')\n",
    "col_pd = collisions_df.groupby(['Neighbourhood Number'])['PD_Collisions'].agg('sum')"
   ]
  },
  {
   "cell_type": "code",
   "execution_count": 12,
   "metadata": {},
   "outputs": [],
   "source": [
    "col_ind = col_ind.to_frame().reset_index()\n",
    "col_inj = col_inj.to_frame().reset_index()\n",
    "col_frt = col_ftr.to_frame().reset_index()\n",
    "col_pd = col_pd.to_frame().reset_index()"
   ]
  },
  {
   "cell_type": "code",
   "execution_count": 13,
   "metadata": {},
   "outputs": [],
   "source": [
    "neighbourhoods = neighbourhoods.merge(col_ind,how=\"inner\",on=\"Neighbourhood Number\")\n",
    "neighbourhoods = neighbourhoods.merge(col_inj,how=\"inner\",on=\"Neighbourhood Number\")\n",
    "neighbourhoods = neighbourhoods.merge(col_ftr,how=\"inner\",on=\"Neighbourhood Number\")\n",
    "neighbourhoods = neighbourhoods.merge(col_pd,how=\"inner\",on=\"Neighbourhood Number\")"
   ]
  },
  {
   "cell_type": "code",
   "execution_count": 14,
   "metadata": {},
   "outputs": [],
   "source": [
    "# for better comparions between neighbourhoods, collision rate is per capita\n",
    "neighbourhoods['Collision Rate'] = (neighbourhoods['Collision Indicator']/neighbourhoods['Population, 2016'])*100\n",
    "neighbourhoods['Injury_Collisions'] = (neighbourhoods['Injury_Collisions']/neighbourhoods['Collision Indicator'])*100\n",
    "neighbourhoods['FTR_Collisions'] = (neighbourhoods['FTR_Collisions']/neighbourhoods['Collision Indicator'])*100\n",
    "neighbourhoods['PD_Collisions'] = (neighbourhoods['PD_Collisions']/neighbourhoods['Collision Indicator'])*100"
   ]
  },
  {
   "cell_type": "code",
   "execution_count": 15,
   "metadata": {},
   "outputs": [
    {
     "data": {
      "text/html": [
       "<div>\n",
       "<style scoped>\n",
       "    .dataframe tbody tr th:only-of-type {\n",
       "        vertical-align: middle;\n",
       "    }\n",
       "\n",
       "    .dataframe tbody tr th {\n",
       "        vertical-align: top;\n",
       "    }\n",
       "\n",
       "    .dataframe thead th {\n",
       "        text-align: right;\n",
       "    }\n",
       "</style>\n",
       "<table border=\"1\" class=\"dataframe\">\n",
       "  <thead>\n",
       "    <tr style=\"text-align: right;\">\n",
       "      <th></th>\n",
       "      <th>Neighbourhood</th>\n",
       "      <th>Neighbourhood Number</th>\n",
       "      <th>TSNS2020 Designation</th>\n",
       "      <th>Population, 2016</th>\n",
       "      <th>Population, 2011</th>\n",
       "      <th>Population Change 2011-2016</th>\n",
       "      <th>Total private dwellings</th>\n",
       "      <th>Population density per square kilometre</th>\n",
       "      <th>Land area in square kilometres</th>\n",
       "      <th>Age Score</th>\n",
       "      <th>...</th>\n",
       "      <th>Bicycle</th>\n",
       "      <th>Bicycle Mode Share</th>\n",
       "      <th>Commute Mode Score</th>\n",
       "      <th>Commute Duration Score</th>\n",
       "      <th>Commute Time Score</th>\n",
       "      <th>Collision Indicator</th>\n",
       "      <th>Injury_Collisions</th>\n",
       "      <th>FTR_Collisions</th>\n",
       "      <th>PD_Collisions</th>\n",
       "      <th>Collision Rate</th>\n",
       "    </tr>\n",
       "  </thead>\n",
       "  <tbody>\n",
       "    <tr>\n",
       "      <th>0</th>\n",
       "      <td>Agincourt North</td>\n",
       "      <td>129</td>\n",
       "      <td>No Designation</td>\n",
       "      <td>29113</td>\n",
       "      <td>30279</td>\n",
       "      <td>-0.039</td>\n",
       "      <td>9371</td>\n",
       "      <td>3929</td>\n",
       "      <td>7.41</td>\n",
       "      <td>2.59</td>\n",
       "      <td>...</td>\n",
       "      <td>70</td>\n",
       "      <td>0.01</td>\n",
       "      <td>1.68</td>\n",
       "      <td>3.03</td>\n",
       "      <td>0.50</td>\n",
       "      <td>2657</td>\n",
       "      <td>17.275122</td>\n",
       "      <td>15.016936</td>\n",
       "      <td>69.025216</td>\n",
       "      <td>9.126507</td>\n",
       "    </tr>\n",
       "    <tr>\n",
       "      <th>1</th>\n",
       "      <td>Agincourt South-Malvern West</td>\n",
       "      <td>128</td>\n",
       "      <td>No Designation</td>\n",
       "      <td>23757</td>\n",
       "      <td>21988</td>\n",
       "      <td>0.080</td>\n",
       "      <td>8535</td>\n",
       "      <td>3034</td>\n",
       "      <td>7.83</td>\n",
       "      <td>2.46</td>\n",
       "      <td>...</td>\n",
       "      <td>35</td>\n",
       "      <td>0.00</td>\n",
       "      <td>1.71</td>\n",
       "      <td>3.01</td>\n",
       "      <td>0.58</td>\n",
       "      <td>4523</td>\n",
       "      <td>16.029184</td>\n",
       "      <td>14.879505</td>\n",
       "      <td>70.285209</td>\n",
       "      <td>19.038599</td>\n",
       "    </tr>\n",
       "    <tr>\n",
       "      <th>2</th>\n",
       "      <td>Alderwood</td>\n",
       "      <td>20</td>\n",
       "      <td>No Designation</td>\n",
       "      <td>12054</td>\n",
       "      <td>11904</td>\n",
       "      <td>0.013</td>\n",
       "      <td>4732</td>\n",
       "      <td>2435</td>\n",
       "      <td>4.95</td>\n",
       "      <td>2.53</td>\n",
       "      <td>...</td>\n",
       "      <td>65</td>\n",
       "      <td>0.01</td>\n",
       "      <td>1.59</td>\n",
       "      <td>2.70</td>\n",
       "      <td>0.01</td>\n",
       "      <td>845</td>\n",
       "      <td>17.633136</td>\n",
       "      <td>16.331361</td>\n",
       "      <td>68.52071</td>\n",
       "      <td>7.010121</td>\n",
       "    </tr>\n",
       "    <tr>\n",
       "      <th>3</th>\n",
       "      <td>Annex</td>\n",
       "      <td>95</td>\n",
       "      <td>No Designation</td>\n",
       "      <td>30526</td>\n",
       "      <td>29177</td>\n",
       "      <td>0.046</td>\n",
       "      <td>18109</td>\n",
       "      <td>10863</td>\n",
       "      <td>2.81</td>\n",
       "      <td>2.50</td>\n",
       "      <td>...</td>\n",
       "      <td>1675</td>\n",
       "      <td>0.11</td>\n",
       "      <td>3.12</td>\n",
       "      <td>2.48</td>\n",
       "      <td>0.84</td>\n",
       "      <td>4932</td>\n",
       "      <td>13.179238</td>\n",
       "      <td>18.126521</td>\n",
       "      <td>70.377129</td>\n",
       "      <td>16.156719</td>\n",
       "    </tr>\n",
       "    <tr>\n",
       "      <th>4</th>\n",
       "      <td>Banbury-Don Mills</td>\n",
       "      <td>42</td>\n",
       "      <td>No Designation</td>\n",
       "      <td>27695</td>\n",
       "      <td>26918</td>\n",
       "      <td>0.029</td>\n",
       "      <td>12473</td>\n",
       "      <td>2775</td>\n",
       "      <td>9.98</td>\n",
       "      <td>2.77</td>\n",
       "      <td>...</td>\n",
       "      <td>65</td>\n",
       "      <td>0.01</td>\n",
       "      <td>1.75</td>\n",
       "      <td>2.80</td>\n",
       "      <td>0.41</td>\n",
       "      <td>6194</td>\n",
       "      <td>14.756216</td>\n",
       "      <td>10.881498</td>\n",
       "      <td>75.379399</td>\n",
       "      <td>22.365048</td>\n",
       "    </tr>\n",
       "  </tbody>\n",
       "</table>\n",
       "<p>5 rows × 35 columns</p>\n",
       "</div>"
      ],
      "text/plain": [
       "                  Neighbourhood Neighbourhood Number TSNS2020 Designation  \\\n",
       "0               Agincourt North                  129       No Designation   \n",
       "1  Agincourt South-Malvern West                  128       No Designation   \n",
       "2                     Alderwood                   20       No Designation   \n",
       "3                         Annex                   95       No Designation   \n",
       "4             Banbury-Don Mills                   42       No Designation   \n",
       "\n",
       "   Population, 2016  Population, 2011  Population Change 2011-2016  \\\n",
       "0             29113             30279                       -0.039   \n",
       "1             23757             21988                        0.080   \n",
       "2             12054             11904                        0.013   \n",
       "3             30526             29177                        0.046   \n",
       "4             27695             26918                        0.029   \n",
       "\n",
       "   Total private dwellings  Population density per square kilometre  \\\n",
       "0                     9371                                     3929   \n",
       "1                     8535                                     3034   \n",
       "2                     4732                                     2435   \n",
       "3                    18109                                    10863   \n",
       "4                    12473                                     2775   \n",
       "\n",
       "   Land area in square kilometres  Age Score  ...    Bicycle  \\\n",
       "0                            7.41       2.59  ...         70   \n",
       "1                            7.83       2.46  ...         35   \n",
       "2                            4.95       2.53  ...         65   \n",
       "3                            2.81       2.50  ...       1675   \n",
       "4                            9.98       2.77  ...         65   \n",
       "\n",
       "   Bicycle Mode Share  Commute Mode Score  Commute Duration Score  \\\n",
       "0                0.01                1.68                    3.03   \n",
       "1                0.00                1.71                    3.01   \n",
       "2                0.01                1.59                    2.70   \n",
       "3                0.11                3.12                    2.48   \n",
       "4                0.01                1.75                    2.80   \n",
       "\n",
       "   Commute Time Score  Collision Indicator  Injury_Collisions  FTR_Collisions  \\\n",
       "0                0.50                 2657          17.275122       15.016936   \n",
       "1                0.58                 4523          16.029184       14.879505   \n",
       "2                0.01                  845          17.633136       16.331361   \n",
       "3                0.84                 4932          13.179238       18.126521   \n",
       "4                0.41                 6194          14.756216       10.881498   \n",
       "\n",
       "   PD_Collisions  Collision Rate  \n",
       "0      69.025216        9.126507  \n",
       "1      70.285209       19.038599  \n",
       "2       68.52071        7.010121  \n",
       "3      70.377129       16.156719  \n",
       "4      75.379399       22.365048  \n",
       "\n",
       "[5 rows x 35 columns]"
      ]
     },
     "execution_count": 15,
     "metadata": {},
     "output_type": "execute_result"
    }
   ],
   "source": [
    "neighbourhoods.head()"
   ]
  },
  {
   "cell_type": "code",
   "execution_count": 16,
   "metadata": {},
   "outputs": [
    {
     "data": {
      "text/plain": [
       "count     140.000000\n",
       "unique    140.000000\n",
       "top        15.016936\n",
       "freq        1.000000\n",
       "Name: FTR_Collisions, dtype: float64"
      ]
     },
     "execution_count": 16,
     "metadata": {},
     "output_type": "execute_result"
    }
   ],
   "source": [
    "neighbourhoods['FTR_Collisions'].describe()"
   ]
  },
  {
   "cell_type": "code",
   "execution_count": 19,
   "metadata": {},
   "outputs": [
    {
     "data": {
      "image/png": "[encoded data removed]",
      "text/plain": [
       "<Figure size 640x480 with 1 Axes>"
      ]
     },
     "metadata": {},
     "output_type": "display_data"
    },
    {
     "data": {
      "image/png": "[encoded data removed]",
      "text/plain": [
       "<Figure size 640x480 with 1 Axes>"
      ]
     },
     "metadata": {},
     "output_type": "display_data"
    },
    {
     "data": {
      "image/png": "[encoded data removed]",
      "text/plain": [
       "<Figure size 640x480 with 1 Axes>"
      ]
     },
     "metadata": {},
     "output_type": "display_data"
    }
   ],
   "source": [
    "sns.scatterplot(data=neighbourhoods, x='Commute Duration Score', y='Collision Rate')\n",
    "plt.show()"
   ]
  },
  {
   "cell_type": "code",
   "execution_count": 40,
   "metadata": {},
   "outputs": [
    {
     "data": {
      "text/html": [
       "<div>\n",
       "<style scoped>\n",
       "    .dataframe tbody tr th:only-of-type {\n",
       "        vertical-align: middle;\n",
       "    }\n",
       "\n",
       "    .dataframe tbody tr th {\n",
       "        vertical-align: top;\n",
       "    }\n",
       "\n",
       "    .dataframe thead th {\n",
       "        text-align: right;\n",
       "    }\n",
       "</style>\n",
       "<table border=\"1\" class=\"dataframe\">\n",
       "  <thead>\n",
       "    <tr style=\"text-align: right;\">\n",
       "      <th></th>\n",
       "      <th>Collision Rate</th>\n",
       "    </tr>\n",
       "  </thead>\n",
       "  <tbody>\n",
       "    <tr>\n",
       "      <th>0</th>\n",
       "      <td>9.126507</td>\n",
       "    </tr>\n",
       "    <tr>\n",
       "      <th>1</th>\n",
       "      <td>19.038599</td>\n",
       "    </tr>\n",
       "    <tr>\n",
       "      <th>2</th>\n",
       "      <td>7.010121</td>\n",
       "    </tr>\n",
       "    <tr>\n",
       "      <th>3</th>\n",
       "      <td>16.156719</td>\n",
       "    </tr>\n",
       "    <tr>\n",
       "      <th>4</th>\n",
       "      <td>22.365048</td>\n",
       "    </tr>\n",
       "    <tr>\n",
       "      <th>...</th>\n",
       "      <td>...</td>\n",
       "    </tr>\n",
       "    <tr>\n",
       "      <th>135</th>\n",
       "      <td>8.418705</td>\n",
       "    </tr>\n",
       "    <tr>\n",
       "      <th>136</th>\n",
       "      <td>16.425489</td>\n",
       "    </tr>\n",
       "    <tr>\n",
       "      <th>137</th>\n",
       "      <td>11.222861</td>\n",
       "    </tr>\n",
       "    <tr>\n",
       "      <th>138</th>\n",
       "      <td>24.397492</td>\n",
       "    </tr>\n",
       "    <tr>\n",
       "      <th>139</th>\n",
       "      <td>32.579033</td>\n",
       "    </tr>\n",
       "  </tbody>\n",
       "</table>\n",
       "<p>140 rows × 1 columns</p>\n",
       "</div>"
      ],
      "text/plain": [
       "     Collision Rate\n",
       "0          9.126507\n",
       "1         19.038599\n",
       "2          7.010121\n",
       "3         16.156719\n",
       "4         22.365048\n",
       "..              ...\n",
       "135        8.418705\n",
       "136       16.425489\n",
       "137       11.222861\n",
       "138       24.397492\n",
       "139       32.579033\n",
       "\n",
       "[140 rows x 1 columns]"
      ]
     },
     "execution_count": 40,
     "metadata": {},
     "output_type": "execute_result"
    }
   ],
   "source": [
    "response = 'Collision Rate'\n",
    "y = neighbourhoods[[response]]\n",
    "y"
   ]
  },
  {
   "cell_type": "code",
   "execution_count": 41,
   "metadata": {},
   "outputs": [
    {
     "data": {
      "text/html": [
       "<div>\n",
       "<style scoped>\n",
       "    .dataframe tbody tr th:only-of-type {\n",
       "        vertical-align: middle;\n",
       "    }\n",
       "\n",
       "    .dataframe tbody tr th {\n",
       "        vertical-align: top;\n",
       "    }\n",
       "\n",
       "    .dataframe thead th {\n",
       "        text-align: right;\n",
       "    }\n",
       "</style>\n",
       "<table border=\"1\" class=\"dataframe\">\n",
       "  <thead>\n",
       "    <tr style=\"text-align: right;\">\n",
       "      <th></th>\n",
       "      <th>Population density per square kilometre</th>\n",
       "    </tr>\n",
       "  </thead>\n",
       "  <tbody>\n",
       "    <tr>\n",
       "      <th>0</th>\n",
       "      <td>3929</td>\n",
       "    </tr>\n",
       "    <tr>\n",
       "      <th>1</th>\n",
       "      <td>3034</td>\n",
       "    </tr>\n",
       "    <tr>\n",
       "      <th>2</th>\n",
       "      <td>2435</td>\n",
       "    </tr>\n",
       "    <tr>\n",
       "      <th>3</th>\n",
       "      <td>10863</td>\n",
       "    </tr>\n",
       "    <tr>\n",
       "      <th>4</th>\n",
       "      <td>2775</td>\n",
       "    </tr>\n",
       "    <tr>\n",
       "      <th>...</th>\n",
       "      <td>...</td>\n",
       "    </tr>\n",
       "    <tr>\n",
       "      <th>135</th>\n",
       "      <td>8541</td>\n",
       "    </tr>\n",
       "    <tr>\n",
       "      <th>136</th>\n",
       "      <td>7162</td>\n",
       "    </tr>\n",
       "    <tr>\n",
       "      <th>137</th>\n",
       "      <td>10708</td>\n",
       "    </tr>\n",
       "    <tr>\n",
       "      <th>138</th>\n",
       "      <td>2086</td>\n",
       "    </tr>\n",
       "    <tr>\n",
       "      <th>139</th>\n",
       "      <td>2451</td>\n",
       "    </tr>\n",
       "  </tbody>\n",
       "</table>\n",
       "<p>140 rows × 1 columns</p>\n",
       "</div>"
      ],
      "text/plain": [
       "     Population density per square kilometre\n",
       "0                                       3929\n",
       "1                                       3034\n",
       "2                                       2435\n",
       "3                                      10863\n",
       "4                                       2775\n",
       "..                                       ...\n",
       "135                                     8541\n",
       "136                                     7162\n",
       "137                                    10708\n",
       "138                                     2086\n",
       "139                                     2451\n",
       "\n",
       "[140 rows x 1 columns]"
      ]
     },
     "execution_count": 41,
     "metadata": {},
     "output_type": "execute_result"
    }
   ],
   "source": [
    "predictors = 'Population density per square kilometre'\n",
    "x_density = neighbourhoods[[predictors]]\n",
    "x_density"
   ]
  },
  {
   "cell_type": "code",
   "execution_count": 42,
   "metadata": {},
   "outputs": [],
   "source": [
    "model_density = LinearRegression().fit(x_density, y)"
   ]
  },
  {
   "cell_type": "code",
   "execution_count": 43,
   "metadata": {},
   "outputs": [
    {
     "data": {
      "text/plain": [
       "array([12.23638414])"
      ]
     },
     "execution_count": 43,
     "metadata": {},
     "output_type": "execute_result"
    }
   ],
   "source": [
    "model_density.intercept_"
   ]
  },
  {
   "cell_type": "code",
   "execution_count": 44,
   "metadata": {},
   "outputs": [
    {
     "data": {
      "text/plain": [
       "array([[-0.0002074]])"
      ]
     },
     "execution_count": 44,
     "metadata": {},
     "output_type": "execute_result"
    }
   ],
   "source": [
    "model_density.coef_"
   ]
  },
  {
   "cell_type": "code",
   "execution_count": 45,
   "metadata": {},
   "outputs": [
    {
     "data": {
      "text/plain": [
       "0.030074153523906855"
      ]
     },
     "execution_count": 45,
     "metadata": {},
     "output_type": "execute_result"
    }
   ],
   "source": [
    "model_density.score(x_density, y)"
   ]
  },
  {
   "cell_type": "code",
   "execution_count": 46,
   "metadata": {},
   "outputs": [
    {
     "data": {
      "text/html": [
       "<div>\n",
       "<style scoped>\n",
       "    .dataframe tbody tr th:only-of-type {\n",
       "        vertical-align: middle;\n",
       "    }\n",
       "\n",
       "    .dataframe tbody tr th {\n",
       "        vertical-align: top;\n",
       "    }\n",
       "\n",
       "    .dataframe thead th {\n",
       "        text-align: right;\n",
       "    }\n",
       "</style>\n",
       "<table border=\"1\" class=\"dataframe\">\n",
       "  <thead>\n",
       "    <tr style=\"text-align: right;\">\n",
       "      <th></th>\n",
       "      <th>Commute Mode Score</th>\n",
       "    </tr>\n",
       "  </thead>\n",
       "  <tbody>\n",
       "    <tr>\n",
       "      <th>0</th>\n",
       "      <td>1.68</td>\n",
       "    </tr>\n",
       "    <tr>\n",
       "      <th>1</th>\n",
       "      <td>1.71</td>\n",
       "    </tr>\n",
       "    <tr>\n",
       "      <th>2</th>\n",
       "      <td>1.59</td>\n",
       "    </tr>\n",
       "    <tr>\n",
       "      <th>3</th>\n",
       "      <td>3.12</td>\n",
       "    </tr>\n",
       "    <tr>\n",
       "      <th>4</th>\n",
       "      <td>1.75</td>\n",
       "    </tr>\n",
       "    <tr>\n",
       "      <th>...</th>\n",
       "      <td>...</td>\n",
       "    </tr>\n",
       "    <tr>\n",
       "      <th>135</th>\n",
       "      <td>2.59</td>\n",
       "    </tr>\n",
       "    <tr>\n",
       "      <th>136</th>\n",
       "      <td>2.50</td>\n",
       "    </tr>\n",
       "    <tr>\n",
       "      <th>137</th>\n",
       "      <td>2.53</td>\n",
       "    </tr>\n",
       "    <tr>\n",
       "      <th>138</th>\n",
       "      <td>2.06</td>\n",
       "    </tr>\n",
       "    <tr>\n",
       "      <th>139</th>\n",
       "      <td>1.98</td>\n",
       "    </tr>\n",
       "  </tbody>\n",
       "</table>\n",
       "<p>140 rows × 1 columns</p>\n",
       "</div>"
      ],
      "text/plain": [
       "     Commute Mode Score\n",
       "0                  1.68\n",
       "1                  1.71\n",
       "2                  1.59\n",
       "3                  3.12\n",
       "4                  1.75\n",
       "..                  ...\n",
       "135                2.59\n",
       "136                2.50\n",
       "137                2.53\n",
       "138                2.06\n",
       "139                1.98\n",
       "\n",
       "[140 rows x 1 columns]"
      ]
     },
     "execution_count": 46,
     "metadata": {},
     "output_type": "execute_result"
    }
   ],
   "source": [
    "predictors = 'Commute Mode Score'\n",
    "x_commute_mode = neighbourhoods[[predictors]]\n",
    "x_commute_mode"
   ]
  },
  {
   "cell_type": "code",
   "execution_count": 47,
   "metadata": {},
   "outputs": [],
   "source": [
    "model_commute_mode = LinearRegression().fit(x_commute_mode, y)"
   ]
  },
  {
   "cell_type": "code",
   "execution_count": 48,
   "metadata": {},
   "outputs": [
    {
     "data": {
      "text/plain": [
       "array([7.74334174])"
      ]
     },
     "execution_count": 48,
     "metadata": {},
     "output_type": "execute_result"
    }
   ],
   "source": [
    "model_commute_mode.intercept_"
   ]
  },
  {
   "cell_type": "code",
   "execution_count": 49,
   "metadata": {},
   "outputs": [
    {
     "data": {
      "text/plain": [
       "array([[1.49784968]])"
      ]
     },
     "execution_count": 49,
     "metadata": {},
     "output_type": "execute_result"
    }
   ],
   "source": [
    "model_commute_mode.coef_"
   ]
  },
  {
   "cell_type": "code",
   "execution_count": 50,
   "metadata": {},
   "outputs": [
    {
     "data": {
      "text/plain": [
       "0.01650757053658014"
      ]
     },
     "execution_count": 50,
     "metadata": {},
     "output_type": "execute_result"
    }
   ],
   "source": [
    "model_commute_mode.score(x_commute_mode, y)"
   ]
  },
  {
   "cell_type": "code",
   "execution_count": 51,
   "metadata": {},
   "outputs": [
    {
     "data": {
      "text/html": [
       "<div>\n",
       "<style scoped>\n",
       "    .dataframe tbody tr th:only-of-type {\n",
       "        vertical-align: middle;\n",
       "    }\n",
       "\n",
       "    .dataframe tbody tr th {\n",
       "        vertical-align: top;\n",
       "    }\n",
       "\n",
       "    .dataframe thead th {\n",
       "        text-align: right;\n",
       "    }\n",
       "</style>\n",
       "<table border=\"1\" class=\"dataframe\">\n",
       "  <thead>\n",
       "    <tr style=\"text-align: right;\">\n",
       "      <th></th>\n",
       "      <th>Private Vehicle Mode Share</th>\n",
       "    </tr>\n",
       "  </thead>\n",
       "  <tbody>\n",
       "    <tr>\n",
       "      <th>0</th>\n",
       "      <td>0.61</td>\n",
       "    </tr>\n",
       "    <tr>\n",
       "      <th>1</th>\n",
       "      <td>0.60</td>\n",
       "    </tr>\n",
       "    <tr>\n",
       "      <th>2</th>\n",
       "      <td>0.68</td>\n",
       "    </tr>\n",
       "    <tr>\n",
       "      <th>3</th>\n",
       "      <td>0.22</td>\n",
       "    </tr>\n",
       "    <tr>\n",
       "      <th>4</th>\n",
       "      <td>0.63</td>\n",
       "    </tr>\n",
       "    <tr>\n",
       "      <th>...</th>\n",
       "      <td>...</td>\n",
       "    </tr>\n",
       "    <tr>\n",
       "      <th>135</th>\n",
       "      <td>0.33</td>\n",
       "    </tr>\n",
       "    <tr>\n",
       "      <th>136</th>\n",
       "      <td>0.33</td>\n",
       "    </tr>\n",
       "    <tr>\n",
       "      <th>137</th>\n",
       "      <td>0.32</td>\n",
       "    </tr>\n",
       "    <tr>\n",
       "      <th>138</th>\n",
       "      <td>0.46</td>\n",
       "    </tr>\n",
       "    <tr>\n",
       "      <th>139</th>\n",
       "      <td>0.50</td>\n",
       "    </tr>\n",
       "  </tbody>\n",
       "</table>\n",
       "<p>140 rows × 1 columns</p>\n",
       "</div>"
      ],
      "text/plain": [
       "     Private Vehicle Mode Share\n",
       "0                          0.61\n",
       "1                          0.60\n",
       "2                          0.68\n",
       "3                          0.22\n",
       "4                          0.63\n",
       "..                          ...\n",
       "135                        0.33\n",
       "136                        0.33\n",
       "137                        0.32\n",
       "138                        0.46\n",
       "139                        0.50\n",
       "\n",
       "[140 rows x 1 columns]"
      ]
     },
     "execution_count": 51,
     "metadata": {},
     "output_type": "execute_result"
    }
   ],
   "source": [
    "predictors = 'Private Vehicle Mode Share'\n",
    "x_commute_car = neighbourhoods[[predictors]]\n",
    "x_commute_car"
   ]
  },
  {
   "cell_type": "code",
   "execution_count": 52,
   "metadata": {},
   "outputs": [],
   "source": [
    "model_commute_car = LinearRegression().fit(x_commute_car, y)"
   ]
  },
  {
   "cell_type": "code",
   "execution_count": 53,
   "metadata": {},
   "outputs": [
    {
     "data": {
      "text/plain": [
       "array([12.0707087])"
      ]
     },
     "execution_count": 53,
     "metadata": {},
     "output_type": "execute_result"
    }
   ],
   "source": [
    "model_commute_car.intercept_"
   ]
  },
  {
   "cell_type": "code",
   "execution_count": 54,
   "metadata": {},
   "outputs": [
    {
     "data": {
      "text/plain": [
       "array([[-2.41368769]])"
      ]
     },
     "execution_count": 54,
     "metadata": {},
     "output_type": "execute_result"
    }
   ],
   "source": [
    "model_commute_car.coef_"
   ]
  },
  {
   "cell_type": "code",
   "execution_count": 55,
   "metadata": {},
   "outputs": [
    {
     "data": {
      "text/plain": [
       "0.0032587514358993763"
      ]
     },
     "execution_count": 55,
     "metadata": {},
     "output_type": "execute_result"
    }
   ],
   "source": [
    "model_commute_car.score(x_commute_car, y)"
   ]
  },
  {
   "cell_type": "code",
   "execution_count": 73,
   "metadata": {},
   "outputs": [
    {
     "data": {
      "text/html": [
       "<div>\n",
       "<style scoped>\n",
       "    .dataframe tbody tr th:only-of-type {\n",
       "        vertical-align: middle;\n",
       "    }\n",
       "\n",
       "    .dataframe tbody tr th {\n",
       "        vertical-align: top;\n",
       "    }\n",
       "\n",
       "    .dataframe thead th {\n",
       "        text-align: right;\n",
       "    }\n",
       "</style>\n",
       "<table border=\"1\" class=\"dataframe\">\n",
       "  <thead>\n",
       "    <tr style=\"text-align: right;\">\n",
       "      <th></th>\n",
       "      <th>Public Transit Mode Share</th>\n",
       "    </tr>\n",
       "  </thead>\n",
       "  <tbody>\n",
       "    <tr>\n",
       "      <th>0</th>\n",
       "      <td>0.28</td>\n",
       "    </tr>\n",
       "    <tr>\n",
       "      <th>1</th>\n",
       "      <td>0.29</td>\n",
       "    </tr>\n",
       "    <tr>\n",
       "      <th>2</th>\n",
       "      <td>0.21</td>\n",
       "    </tr>\n",
       "    <tr>\n",
       "      <th>3</th>\n",
       "      <td>0.42</td>\n",
       "    </tr>\n",
       "    <tr>\n",
       "      <th>4</th>\n",
       "      <td>0.26</td>\n",
       "    </tr>\n",
       "    <tr>\n",
       "      <th>...</th>\n",
       "      <td>...</td>\n",
       "    </tr>\n",
       "    <tr>\n",
       "      <th>135</th>\n",
       "      <td>0.46</td>\n",
       "    </tr>\n",
       "    <tr>\n",
       "      <th>136</th>\n",
       "      <td>0.49</td>\n",
       "    </tr>\n",
       "    <tr>\n",
       "      <th>137</th>\n",
       "      <td>0.50</td>\n",
       "    </tr>\n",
       "    <tr>\n",
       "      <th>138</th>\n",
       "      <td>0.42</td>\n",
       "    </tr>\n",
       "    <tr>\n",
       "      <th>139</th>\n",
       "      <td>0.37</td>\n",
       "    </tr>\n",
       "  </tbody>\n",
       "</table>\n",
       "<p>140 rows × 1 columns</p>\n",
       "</div>"
      ],
      "text/plain": [
       "     Public Transit Mode Share\n",
       "0                         0.28\n",
       "1                         0.29\n",
       "2                         0.21\n",
       "3                         0.42\n",
       "4                         0.26\n",
       "..                         ...\n",
       "135                       0.46\n",
       "136                       0.49\n",
       "137                       0.50\n",
       "138                       0.42\n",
       "139                       0.37\n",
       "\n",
       "[140 rows x 1 columns]"
      ]
     },
     "execution_count": 73,
     "metadata": {},
     "output_type": "execute_result"
    }
   ],
   "source": [
    "predictors = 'Public Transit Mode Share'\n",
    "x_commute_transit = neighbourhoods[[predictors]]\n",
    "x_commute_transit"
   ]
  },
  {
   "cell_type": "code",
   "execution_count": 74,
   "metadata": {},
   "outputs": [],
   "source": [
    "model_commute_transit = LinearRegression().fit(x_commute_transit, y)"
   ]
  },
  {
   "cell_type": "code",
   "execution_count": 75,
   "metadata": {},
   "outputs": [
    {
     "data": {
      "text/plain": [
       "array([15.75260447])"
      ]
     },
     "execution_count": 75,
     "metadata": {},
     "output_type": "execute_result"
    }
   ],
   "source": [
    "model_commute_transit.intercept_"
   ]
  },
  {
   "cell_type": "code",
   "execution_count": 59,
   "metadata": {},
   "outputs": [
    {
     "data": {
      "text/plain": [
       "array([[-12.85409662]])"
      ]
     },
     "execution_count": 59,
     "metadata": {},
     "output_type": "execute_result"
    }
   ],
   "source": [
    "model_commute_transit.coef_"
   ]
  },
  {
   "cell_type": "code",
   "execution_count": 60,
   "metadata": {},
   "outputs": [
    {
     "data": {
      "text/plain": [
       "0.03696489273418868"
      ]
     },
     "execution_count": 60,
     "metadata": {},
     "output_type": "execute_result"
    }
   ],
   "source": [
    "model_commute_transit.score(x_commute_transit, y)"
   ]
  },
  {
   "cell_type": "code",
   "execution_count": 61,
   "metadata": {},
   "outputs": [
    {
     "data": {
      "text/html": [
       "<div>\n",
       "<style scoped>\n",
       "    .dataframe tbody tr th:only-of-type {\n",
       "        vertical-align: middle;\n",
       "    }\n",
       "\n",
       "    .dataframe tbody tr th {\n",
       "        vertical-align: top;\n",
       "    }\n",
       "\n",
       "    .dataframe thead th {\n",
       "        text-align: right;\n",
       "    }\n",
       "</style>\n",
       "<table border=\"1\" class=\"dataframe\">\n",
       "  <thead>\n",
       "    <tr style=\"text-align: right;\">\n",
       "      <th></th>\n",
       "      <th>Commute Duration Score</th>\n",
       "    </tr>\n",
       "  </thead>\n",
       "  <tbody>\n",
       "    <tr>\n",
       "      <th>0</th>\n",
       "      <td>3.03</td>\n",
       "    </tr>\n",
       "    <tr>\n",
       "      <th>1</th>\n",
       "      <td>3.01</td>\n",
       "    </tr>\n",
       "    <tr>\n",
       "      <th>2</th>\n",
       "      <td>2.70</td>\n",
       "    </tr>\n",
       "    <tr>\n",
       "      <th>3</th>\n",
       "      <td>2.48</td>\n",
       "    </tr>\n",
       "    <tr>\n",
       "      <th>4</th>\n",
       "      <td>2.80</td>\n",
       "    </tr>\n",
       "    <tr>\n",
       "      <th>...</th>\n",
       "      <td>...</td>\n",
       "    </tr>\n",
       "    <tr>\n",
       "      <th>135</th>\n",
       "      <td>2.88</td>\n",
       "    </tr>\n",
       "    <tr>\n",
       "      <th>136</th>\n",
       "      <td>2.76</td>\n",
       "    </tr>\n",
       "    <tr>\n",
       "      <th>137</th>\n",
       "      <td>2.63</td>\n",
       "    </tr>\n",
       "    <tr>\n",
       "      <th>138</th>\n",
       "      <td>3.14</td>\n",
       "    </tr>\n",
       "    <tr>\n",
       "      <th>139</th>\n",
       "      <td>2.85</td>\n",
       "    </tr>\n",
       "  </tbody>\n",
       "</table>\n",
       "<p>140 rows × 1 columns</p>\n",
       "</div>"
      ],
      "text/plain": [
       "     Commute Duration Score\n",
       "0                      3.03\n",
       "1                      3.01\n",
       "2                      2.70\n",
       "3                      2.48\n",
       "4                      2.80\n",
       "..                      ...\n",
       "135                    2.88\n",
       "136                    2.76\n",
       "137                    2.63\n",
       "138                    3.14\n",
       "139                    2.85\n",
       "\n",
       "[140 rows x 1 columns]"
      ]
     },
     "execution_count": 61,
     "metadata": {},
     "output_type": "execute_result"
    }
   ],
   "source": [
    "predictors = 'Commute Duration Score'\n",
    "x_commute_duration = neighbourhoods[[predictors]]\n",
    "x_commute_duration"
   ]
  },
  {
   "cell_type": "code",
   "execution_count": 62,
   "metadata": {},
   "outputs": [],
   "source": [
    "model_commute_duration = LinearRegression().fit(x_commute_duration, y)"
   ]
  },
  {
   "cell_type": "code",
   "execution_count": 63,
   "metadata": {},
   "outputs": [
    {
     "data": {
      "text/plain": [
       "array([33.10677216])"
      ]
     },
     "execution_count": 63,
     "metadata": {},
     "output_type": "execute_result"
    }
   ],
   "source": [
    "model_commute_duration.intercept_"
   ]
  },
  {
   "cell_type": "code",
   "execution_count": 64,
   "metadata": {},
   "outputs": [
    {
     "data": {
      "text/plain": [
       "array([[-7.50145575]])"
      ]
     },
     "execution_count": 64,
     "metadata": {},
     "output_type": "execute_result"
    }
   ],
   "source": [
    "model_commute_duration.coef_"
   ]
  },
  {
   "cell_type": "code",
   "execution_count": 65,
   "metadata": {},
   "outputs": [
    {
     "data": {
      "text/plain": [
       "0.08752466661315039"
      ]
     },
     "execution_count": 65,
     "metadata": {},
     "output_type": "execute_result"
    }
   ],
   "source": [
    "model_commute_duration.score(x_commute_duration, y)"
   ]
  },
  {
   "cell_type": "code",
   "execution_count": 66,
   "metadata": {},
   "outputs": [
    {
     "data": {
      "text/html": [
       "<div>\n",
       "<style scoped>\n",
       "    .dataframe tbody tr th:only-of-type {\n",
       "        vertical-align: middle;\n",
       "    }\n",
       "\n",
       "    .dataframe tbody tr th {\n",
       "        vertical-align: top;\n",
       "    }\n",
       "\n",
       "    .dataframe thead th {\n",
       "        text-align: right;\n",
       "    }\n",
       "</style>\n",
       "<table border=\"1\" class=\"dataframe\">\n",
       "  <thead>\n",
       "    <tr style=\"text-align: right;\">\n",
       "      <th></th>\n",
       "      <th>Neighbourhood</th>\n",
       "      <th>Collision Rate</th>\n",
       "    </tr>\n",
       "  </thead>\n",
       "  <tbody>\n",
       "    <tr>\n",
       "      <th>139</th>\n",
       "      <td>Yorkdale-Glen Park</td>\n",
       "      <td>32.579033</td>\n",
       "    </tr>\n",
       "    <tr>\n",
       "      <th>54</th>\n",
       "      <td>Humber Summit</td>\n",
       "      <td>29.647229</td>\n",
       "    </tr>\n",
       "    <tr>\n",
       "      <th>93</th>\n",
       "      <td>Old East York</td>\n",
       "      <td>28.452291</td>\n",
       "    </tr>\n",
       "    <tr>\n",
       "      <th>128</th>\n",
       "      <td>Wexford/Maryvale</td>\n",
       "      <td>27.750116</td>\n",
       "    </tr>\n",
       "    <tr>\n",
       "      <th>6</th>\n",
       "      <td>Bay Street Corridor</td>\n",
       "      <td>27.196961</td>\n",
       "    </tr>\n",
       "    <tr>\n",
       "      <th>...</th>\n",
       "      <td>...</td>\n",
       "      <td>...</td>\n",
       "    </tr>\n",
       "    <tr>\n",
       "      <th>115</th>\n",
       "      <td>Taylor-Massey</td>\n",
       "      <td>3.985207</td>\n",
       "    </tr>\n",
       "    <tr>\n",
       "      <th>56</th>\n",
       "      <td>Humewood-Cedarvale</td>\n",
       "      <td>3.967978</td>\n",
       "    </tr>\n",
       "    <tr>\n",
       "      <th>36</th>\n",
       "      <td>Edenbridge-Humber Valley</td>\n",
       "      <td>3.926617</td>\n",
       "    </tr>\n",
       "    <tr>\n",
       "      <th>134</th>\n",
       "      <td>Woodbine-Lumsden</td>\n",
       "      <td>3.699936</td>\n",
       "    </tr>\n",
       "    <tr>\n",
       "      <th>65</th>\n",
       "      <td>Lambton Baby Point</td>\n",
       "      <td>2.241703</td>\n",
       "    </tr>\n",
       "  </tbody>\n",
       "</table>\n",
       "<p>140 rows × 2 columns</p>\n",
       "</div>"
      ],
      "text/plain": [
       "                Neighbourhood  Collision Rate\n",
       "139        Yorkdale-Glen Park       32.579033\n",
       "54              Humber Summit       29.647229\n",
       "93              Old East York       28.452291\n",
       "128          Wexford/Maryvale       27.750116\n",
       "6         Bay Street Corridor       27.196961\n",
       "..                        ...             ...\n",
       "115             Taylor-Massey        3.985207\n",
       "56         Humewood-Cedarvale        3.967978\n",
       "36   Edenbridge-Humber Valley        3.926617\n",
       "134          Woodbine-Lumsden        3.699936\n",
       "65         Lambton Baby Point        2.241703\n",
       "\n",
       "[140 rows x 2 columns]"
      ]
     },
     "execution_count": 66,
     "metadata": {},
     "output_type": "execute_result"
    }
   ],
   "source": [
    "neighbourhoods[['Neighbourhood', 'Collision Rate']].sort_values(by = ['Collision Rate'], ascending = False)"
   ]
  },
  {
   "cell_type": "code",
   "execution_count": 67,
   "metadata": {},
   "outputs": [
    {
     "data": {
      "text/html": [
       "<div>\n",
       "<style scoped>\n",
       "    .dataframe tbody tr th:only-of-type {\n",
       "        vertical-align: middle;\n",
       "    }\n",
       "\n",
       "    .dataframe tbody tr th {\n",
       "        vertical-align: top;\n",
       "    }\n",
       "\n",
       "    .dataframe thead th {\n",
       "        text-align: right;\n",
       "    }\n",
       "</style>\n",
       "<table border=\"1\" class=\"dataframe\">\n",
       "  <thead>\n",
       "    <tr style=\"text-align: right;\">\n",
       "      <th></th>\n",
       "      <th>Neighbourhood</th>\n",
       "      <th>PD_Collisions</th>\n",
       "    </tr>\n",
       "  </thead>\n",
       "  <tbody>\n",
       "    <tr>\n",
       "      <th>82</th>\n",
       "      <td>Mount Pleasant East</td>\n",
       "      <td>77.145181</td>\n",
       "    </tr>\n",
       "    <tr>\n",
       "      <th>111</th>\n",
       "      <td>St.Andrew-Windfields</td>\n",
       "      <td>76.21416</td>\n",
       "    </tr>\n",
       "    <tr>\n",
       "      <th>43</th>\n",
       "      <td>Forest Hill North</td>\n",
       "      <td>76.179383</td>\n",
       "    </tr>\n",
       "    <tr>\n",
       "      <th>93</th>\n",
       "      <td>Old East York</td>\n",
       "      <td>75.599543</td>\n",
       "    </tr>\n",
       "    <tr>\n",
       "      <th>4</th>\n",
       "      <td>Banbury-Don Mills</td>\n",
       "      <td>75.379399</td>\n",
       "    </tr>\n",
       "    <tr>\n",
       "      <th>...</th>\n",
       "      <td>...</td>\n",
       "      <td>...</td>\n",
       "    </tr>\n",
       "    <tr>\n",
       "      <th>94</th>\n",
       "      <td>Palmerston-Little Italy</td>\n",
       "      <td>60.677083</td>\n",
       "    </tr>\n",
       "    <tr>\n",
       "      <th>14</th>\n",
       "      <td>Blake-Jones</td>\n",
       "      <td>60.526316</td>\n",
       "    </tr>\n",
       "    <tr>\n",
       "      <th>80</th>\n",
       "      <td>Mount Dennis</td>\n",
       "      <td>60.286029</td>\n",
       "    </tr>\n",
       "    <tr>\n",
       "      <th>81</th>\n",
       "      <td>Mount Olive-Silverstone-Jamestown</td>\n",
       "      <td>59.212313</td>\n",
       "    </tr>\n",
       "    <tr>\n",
       "      <th>65</th>\n",
       "      <td>Lambton Baby Point</td>\n",
       "      <td>58.100559</td>\n",
       "    </tr>\n",
       "  </tbody>\n",
       "</table>\n",
       "<p>140 rows × 2 columns</p>\n",
       "</div>"
      ],
      "text/plain": [
       "                         Neighbourhood PD_Collisions\n",
       "82                 Mount Pleasant East     77.145181\n",
       "111               St.Andrew-Windfields      76.21416\n",
       "43                   Forest Hill North     76.179383\n",
       "93                       Old East York     75.599543\n",
       "4                    Banbury-Don Mills     75.379399\n",
       "..                                 ...           ...\n",
       "94             Palmerston-Little Italy     60.677083\n",
       "14                         Blake-Jones     60.526316\n",
       "80                        Mount Dennis     60.286029\n",
       "81   Mount Olive-Silverstone-Jamestown     59.212313\n",
       "65                  Lambton Baby Point     58.100559\n",
       "\n",
       "[140 rows x 2 columns]"
      ]
     },
     "execution_count": 67,
     "metadata": {},
     "output_type": "execute_result"
    }
   ],
   "source": [
    "neighbourhoods[['Neighbourhood', 'PD_Collisions']].sort_values(by = ['PD_Collisions'], ascending = False)"
   ]
  },
  {
   "cell_type": "code",
   "execution_count": 68,
   "metadata": {},
   "outputs": [
    {
     "data": {
      "text/html": [
       "<div>\n",
       "<style scoped>\n",
       "    .dataframe tbody tr th:only-of-type {\n",
       "        vertical-align: middle;\n",
       "    }\n",
       "\n",
       "    .dataframe tbody tr th {\n",
       "        vertical-align: top;\n",
       "    }\n",
       "\n",
       "    .dataframe thead th {\n",
       "        text-align: right;\n",
       "    }\n",
       "</style>\n",
       "<table border=\"1\" class=\"dataframe\">\n",
       "  <thead>\n",
       "    <tr style=\"text-align: right;\">\n",
       "      <th></th>\n",
       "      <th>PD_Collisions</th>\n",
       "    </tr>\n",
       "  </thead>\n",
       "  <tbody>\n",
       "    <tr>\n",
       "      <th>0</th>\n",
       "      <td>69.025216</td>\n",
       "    </tr>\n",
       "    <tr>\n",
       "      <th>1</th>\n",
       "      <td>70.285209</td>\n",
       "    </tr>\n",
       "    <tr>\n",
       "      <th>2</th>\n",
       "      <td>68.52071</td>\n",
       "    </tr>\n",
       "    <tr>\n",
       "      <th>3</th>\n",
       "      <td>70.377129</td>\n",
       "    </tr>\n",
       "    <tr>\n",
       "      <th>4</th>\n",
       "      <td>75.379399</td>\n",
       "    </tr>\n",
       "    <tr>\n",
       "      <th>...</th>\n",
       "      <td>...</td>\n",
       "    </tr>\n",
       "    <tr>\n",
       "      <th>135</th>\n",
       "      <td>67.880795</td>\n",
       "    </tr>\n",
       "    <tr>\n",
       "      <th>136</th>\n",
       "      <td>71.458011</td>\n",
       "    </tr>\n",
       "    <tr>\n",
       "      <th>137</th>\n",
       "      <td>74.253201</td>\n",
       "    </tr>\n",
       "    <tr>\n",
       "      <th>138</th>\n",
       "      <td>69.073084</td>\n",
       "    </tr>\n",
       "    <tr>\n",
       "      <th>139</th>\n",
       "      <td>62.927638</td>\n",
       "    </tr>\n",
       "  </tbody>\n",
       "</table>\n",
       "<p>140 rows × 1 columns</p>\n",
       "</div>"
      ],
      "text/plain": [
       "    PD_Collisions\n",
       "0       69.025216\n",
       "1       70.285209\n",
       "2        68.52071\n",
       "3       70.377129\n",
       "4       75.379399\n",
       "..            ...\n",
       "135     67.880795\n",
       "136     71.458011\n",
       "137     74.253201\n",
       "138     69.073084\n",
       "139     62.927638\n",
       "\n",
       "[140 rows x 1 columns]"
      ]
     },
     "execution_count": 68,
     "metadata": {},
     "output_type": "execute_result"
    }
   ],
   "source": [
    "response = 'PD_Collisions'\n",
    "y_pd = neighbourhoods[[response]]\n",
    "y_pd"
   ]
  },
  {
   "cell_type": "code",
   "execution_count": 69,
   "metadata": {},
   "outputs": [],
   "source": [
    "model_density_pd = LinearRegression().fit(x_density, y_pd)"
   ]
  },
  {
   "cell_type": "code",
   "execution_count": 70,
   "metadata": {},
   "outputs": [
    {
     "data": {
      "text/plain": [
       "array([68.11715319])"
      ]
     },
     "execution_count": 70,
     "metadata": {},
     "output_type": "execute_result"
    }
   ],
   "source": [
    "model_density_pd.intercept_"
   ]
  },
  {
   "cell_type": "code",
   "execution_count": 71,
   "metadata": {},
   "outputs": [
    {
     "data": {
      "text/plain": [
       "array([[-4.54628493e-05]])"
      ]
     },
     "execution_count": 71,
     "metadata": {},
     "output_type": "execute_result"
    }
   ],
   "source": [
    "model_density_pd.coef_"
   ]
  },
  {
   "cell_type": "code",
   "execution_count": 72,
   "metadata": {},
   "outputs": [
    {
     "data": {
      "text/plain": [
       "0.003369493316282335"
      ]
     },
     "execution_count": 72,
     "metadata": {},
     "output_type": "execute_result"
    }
   ],
   "source": [
    "model_density_pd.score(x_density, y_pd)"
   ]
  },
  {
   "cell_type": "code",
   "execution_count": null,
   "metadata": {},
   "outputs": [],
   "source": []
  },
  {
   "cell_type": "code",
   "execution_count": null,
   "metadata": {},
   "outputs": [],
   "source": []
  }
 ],
 "metadata": {
  "kernelspec": {
   "display_name": "Python [conda env:base] *",
   "language": "python",
   "name": "conda-base-py"
  },
  "language_info": {
   "codemirror_mode": {
    "name": "ipython",
    "version": 3
   },
   "file_extension": ".py",
   "mimetype": "text/x-python",
   "name": "python",
   "nbconvert_exporter": "python",
   "pygments_lexer": "ipython3",
   "version": "3.12.7"
  }
 },
 "nbformat": 4,
 "nbformat_minor": 4
}
